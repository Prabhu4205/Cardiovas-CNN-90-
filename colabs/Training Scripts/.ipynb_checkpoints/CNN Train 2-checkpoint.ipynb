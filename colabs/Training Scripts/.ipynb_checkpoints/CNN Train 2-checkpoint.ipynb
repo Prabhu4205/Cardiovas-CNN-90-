{
 "cells": [
  {
   "cell_type": "code",
   "execution_count": 1,
   "id": "774a0219-62cd-42c1-bc73-cc498104a080",
   "metadata": {},
   "outputs": [],
   "source": [
    "import os\n",
    "import pandas as pd\n",
    "import numpy as np\n",
    "from sklearn.preprocessing import LabelEncoder\n",
    "from sklearn.model_selection import train_test_split\n",
    "from tensorflow.keras.utils import to_categorical\n",
    "from tensorflow.keras.models import Model, Sequential\n",
    "from tensorflow.keras.layers import Input, Conv1D, MaxPooling1D, Flatten, Dense, Dropout\n",
    "from tensorflow.keras.layers import LayerNormalization, MultiHeadAttention, Add, GlobalAveragePooling1D\n",
    "from tensorflow.keras.optimizers import Adam\n",
    "from tensorflow.keras.callbacks import EarlyStopping, ModelCheckpoint\n",
    "from sklearn.metrics import confusion_matrix, classification_report\n",
    "import matplotlib.pyplot as plt\n",
    "\n",
    "folders = {\n",
    "    \"Abnormal Heartbeat\": r\"D:\\FYP\\Cadivas CNN\\preprocessed_1d\\AHB\",\n",
    "    \"Myocardial Infarction\": r\"D:\\FYP\\Cadivas CNN\\preprocessed_1d\\MI\",\n",
    "    \"Normal\": r\"D:\\FYP\\Cadivas CNN\\preprocessed_1d\\NORMAL\",\n",
    "    \"History of MI\": r\"D:\\FYP\\Cadivas CNN\\preprocessed_1d\\PM\"\n",
    "}"
   ]
  },
  {
   "cell_type": "code",
   "execution_count": 2,
   "id": "52a86661-c0c1-46aa-ae35-790c6c9ff438",
   "metadata": {},
   "outputs": [],
   "source": [
    "all_data = []\n",
    "\n",
    "for label, folder in folders.items():\n",
    "    for file in os.listdir(folder):\n",
    "        if file.endswith(\".csv\"):\n",
    "            df = pd.read_csv(os.path.join(folder, file))\n",
    "            df['Class'] = label\n",
    "            all_data.append(df)\n",
    "\n",
    "data = pd.concat(all_data, ignore_index=True)\n",
    "\n",
    "# Features & labels\n",
    "X = data.iloc[:, :255].values.astype(np.float32)  # ensure float\n",
    "y = data['Class'].values\n",
    "\n",
    "# Encode labels\n",
    "label_encoder = LabelEncoder()\n",
    "y_encoded = label_encoder.fit_transform(y)\n",
    "y_onehot = to_categorical(y_encoded)\n",
    "\n",
    "# Train-test split\n",
    "X_train, X_test, y_train, y_test = train_test_split(\n",
    "    X, y_onehot, test_size=0.2, random_state=42, stratify=y_onehot\n",
    ")\n",
    "\n",
    "# Reshape for 1D CNN\n",
    "X_train = X_train.reshape(X_train.shape[0], X_train.shape[1], 1)\n",
    "X_test = X_test.reshape(X_test.shape[0], X_test.shape[1], 1)\n",
    "\n",
    "num_classes = y_onehot.shape[1]"
   ]
  },
  {
   "cell_type": "code",
   "execution_count": 3,
   "id": "f2656ed4-4981-43f0-8786-d8aaf0a534c7",
   "metadata": {},
   "outputs": [
    {
     "name": "stdout",
     "output_type": "stream",
     "text": [
      "Model: \"model\"\n",
      "__________________________________________________________________________________________________\n",
      " Layer (type)                   Output Shape         Param #     Connected to                     \n",
      "==================================================================================================\n",
      " input_1 (InputLayer)           [(None, 255, 1)]     0           []                               \n",
      "                                                                                                  \n",
      " conv1d (Conv1D)                (None, 255, 128)     768         ['input_1[0][0]']                \n",
      "                                                                                                  \n",
      " max_pooling1d (MaxPooling1D)   (None, 127, 128)     0           ['conv1d[0][0]']                 \n",
      "                                                                                                  \n",
      " conv1d_1 (Conv1D)              (None, 127, 256)     164096      ['max_pooling1d[0][0]']          \n",
      "                                                                                                  \n",
      " max_pooling1d_1 (MaxPooling1D)  (None, 63, 256)     0           ['conv1d_1[0][0]']               \n",
      "                                                                                                  \n",
      " conv1d_2 (Conv1D)              (None, 63, 256)      196864      ['max_pooling1d_1[0][0]']        \n",
      "                                                                                                  \n",
      " max_pooling1d_2 (MaxPooling1D)  (None, 31, 256)     0           ['conv1d_2[0][0]']               \n",
      "                                                                                                  \n",
      " layer_normalization (LayerNorm  (None, 31, 256)     512         ['max_pooling1d_2[0][0]']        \n",
      " alization)                                                                                       \n",
      "                                                                                                  \n",
      " multi_head_attention (MultiHea  (None, 31, 256)     2103552     ['layer_normalization[0][0]',    \n",
      " dAttention)                                                      'layer_normalization[0][0]']    \n",
      "                                                                                                  \n",
      " add (Add)                      (None, 31, 256)      0           ['max_pooling1d_2[0][0]',        \n",
      "                                                                  'multi_head_attention[0][0]']   \n",
      "                                                                                                  \n",
      " layer_normalization_1 (LayerNo  (None, 31, 256)     512         ['add[0][0]']                    \n",
      " rmalization)                                                                                     \n",
      "                                                                                                  \n",
      " dense (Dense)                  (None, 31, 256)      65792       ['layer_normalization_1[0][0]']  \n",
      "                                                                                                  \n",
      " dropout (Dropout)              (None, 31, 256)      0           ['dense[0][0]']                  \n",
      "                                                                                                  \n",
      " add_1 (Add)                    (None, 31, 256)      0           ['add[0][0]',                    \n",
      "                                                                  'dropout[0][0]']                \n",
      "                                                                                                  \n",
      " global_average_pooling1d (Glob  (None, 256)         0           ['add_1[0][0]']                  \n",
      " alAveragePooling1D)                                                                              \n",
      "                                                                                                  \n",
      " dense_1 (Dense)                (None, 256)          65792       ['global_average_pooling1d[0][0]'\n",
      "                                                                 ]                                \n",
      "                                                                                                  \n",
      " dropout_1 (Dropout)            (None, 256)          0           ['dense_1[0][0]']                \n",
      "                                                                                                  \n",
      " dense_2 (Dense)                (None, 4)            1028        ['dropout_1[0][0]']              \n",
      "                                                                                                  \n",
      "==================================================================================================\n",
      "Total params: 2,598,916\n",
      "Trainable params: 2,598,916\n",
      "Non-trainable params: 0\n",
      "__________________________________________________________________________________________________\n"
     ]
    }
   ],
   "source": [
    "inputs = Input(shape=(X_train.shape[1], 1))\n",
    "\n",
    "# CNN Block\n",
    "x = Conv1D(128, kernel_size=5, activation='relu', padding='same')(inputs)\n",
    "x = MaxPooling1D(pool_size=2)(x)\n",
    "x = Conv1D(256, kernel_size=5, activation='relu', padding='same')(x)\n",
    "x = MaxPooling1D(pool_size=2)(x)\n",
    "x = Conv1D(256, kernel_size=3, activation='relu', padding='same')(x)\n",
    "x = MaxPooling1D(pool_size=2)(x)\n",
    "\n",
    "# Transformer Block\n",
    "x_norm = LayerNormalization(epsilon=1e-6)(x)\n",
    "attn_output = MultiHeadAttention(num_heads=8, key_dim=x.shape[2], dropout=0.2)(x_norm, x_norm)\n",
    "x = Add()([x, attn_output])\n",
    "x_norm2 = LayerNormalization(epsilon=1e-6)(x)\n",
    "ff = Dense(256, activation='relu')(x_norm2)\n",
    "ff = Dropout(0.2)(ff)\n",
    "x = Add()([x, ff])\n",
    "x = GlobalAveragePooling1D()(x)\n",
    "\n",
    "# Fully connected layers\n",
    "x = Dense(256, activation='relu')(x)\n",
    "x = Dropout(0.5)(x)\n",
    "outputs = Dense(num_classes, activation='softmax')(x)\n",
    "\n",
    "model = Model(inputs=inputs, outputs=outputs)\n",
    "\n",
    "# Compile\n",
    "optimizer = Adam(learning_rate=0.0005)\n",
    "model.compile(optimizer=optimizer, loss='categorical_crossentropy', metrics=['accuracy'])\n",
    "model.summary()"
   ]
  },
  {
   "cell_type": "code",
   "execution_count": 4,
   "id": "f0f45708-da81-4632-b66f-cfa5c1dbef38",
   "metadata": {},
   "outputs": [
    {
     "name": "stdout",
     "output_type": "stream",
     "text": [
      "Epoch 1/100\n",
      "302/302 [==============================] - 73s 231ms/step - loss: 1.4364 - accuracy: 0.2768 - val_loss: 1.3763 - val_accuracy: 0.3063\n",
      "Epoch 2/100\n",
      "302/302 [==============================] - 46s 154ms/step - loss: 1.3772 - accuracy: 0.3055 - val_loss: 1.3788 - val_accuracy: 0.2574\n",
      "Epoch 3/100\n",
      "302/302 [==============================] - 47s 157ms/step - loss: 1.3783 - accuracy: 0.3011 - val_loss: 1.3739 - val_accuracy: 0.3063\n",
      "Epoch 4/100\n",
      "302/302 [==============================] - 46s 154ms/step - loss: 1.3764 - accuracy: 0.2997 - val_loss: 1.3715 - val_accuracy: 0.3063\n",
      "Epoch 5/100\n",
      "302/302 [==============================] - 47s 154ms/step - loss: 1.3731 - accuracy: 0.3060 - val_loss: 1.3712 - val_accuracy: 0.3063\n",
      "Epoch 6/100\n",
      "302/302 [==============================] - 44s 147ms/step - loss: 1.3747 - accuracy: 0.3025 - val_loss: 1.3714 - val_accuracy: 0.3063\n",
      "Epoch 7/100\n",
      "302/302 [==============================] - 45s 148ms/step - loss: 1.3732 - accuracy: 0.3069 - val_loss: 1.3718 - val_accuracy: 0.3063\n",
      "Epoch 8/100\n",
      "302/302 [==============================] - 45s 147ms/step - loss: 1.3717 - accuracy: 0.3060 - val_loss: 1.3714 - val_accuracy: 0.3063\n",
      "Epoch 9/100\n",
      "302/302 [==============================] - 45s 147ms/step - loss: 1.3714 - accuracy: 0.3060 - val_loss: 1.3712 - val_accuracy: 0.3063\n",
      "Epoch 10/100\n",
      "302/302 [==============================] - 44s 145ms/step - loss: 1.3713 - accuracy: 0.3060 - val_loss: 1.3711 - val_accuracy: 0.3063\n",
      "Epoch 11/100\n",
      "302/302 [==============================] - 44s 147ms/step - loss: 1.3712 - accuracy: 0.3060 - val_loss: 1.3711 - val_accuracy: 0.3063\n"
     ]
    }
   ],
   "source": [
    "early_stop = EarlyStopping(monitor='val_accuracy', patience=10, restore_best_weights=True)\n",
    "checkpoint = ModelCheckpoint('Hybrid_CNN_Transformer_best.h5', monitor='val_accuracy', save_best_only=True)\n",
    "\n",
    "# Training\n",
    "history = model.fit(\n",
    "    X_train, y_train,\n",
    "    validation_data=(X_test, y_test),\n",
    "    epochs=100,\n",
    "    batch_size=32,\n",
    "    callbacks=[early_stop, checkpoint]\n",
    ")"
   ]
  },
  {
   "cell_type": "code",
   "execution_count": 5,
   "id": "27c35165-bcb3-445f-b764-a228b7804a66",
   "metadata": {},
   "outputs": [
    {
     "name": "stdout",
     "output_type": "stream",
     "text": [
      "76/76 [==============================] - 4s 50ms/step\n"
     ]
    },
    {
     "data": {
      "image/png": "[encoded data removed]",
      "text/plain": [
       "<Figure size 600x600 with 1 Axes>"
      ]
     },
     "metadata": {},
     "output_type": "display_data"
    },
    {
     "name": "stdout",
     "output_type": "stream",
     "text": [
      "                       precision    recall  f1-score   support\n",
      "\n",
      "   Abnormal Heartbeat       0.00      0.00      0.00       606\n",
      "        History of MI       0.00      0.00      0.00       447\n",
      "Myocardial Infarction       0.00      0.00      0.00       621\n",
      "               Normal       0.31      1.00      0.47       739\n",
      "\n",
      "             accuracy                           0.31      2413\n",
      "            macro avg       0.08      0.25      0.12      2413\n",
      "         weighted avg       0.09      0.31      0.14      2413\n",
      "\n"
     ]
    },
    {
     "name": "stderr",
     "output_type": "stream",
     "text": [
      "C:\\Users\\prabh\\AppData\\Local\\Programs\\Python\\Python310\\lib\\site-packages\\sklearn\\metrics\\_classification.py:1469: UndefinedMetricWarning: Precision and F-score are ill-defined and being set to 0.0 in labels with no predicted samples. Use `zero_division` parameter to control this behavior.\n",
      "  _warn_prf(average, modifier, msg_start, len(result))\n",
      "C:\\Users\\prabh\\AppData\\Local\\Programs\\Python\\Python310\\lib\\site-packages\\sklearn\\metrics\\_classification.py:1469: UndefinedMetricWarning: Precision and F-score are ill-defined and being set to 0.0 in labels with no predicted samples. Use `zero_division` parameter to control this behavior.\n",
      "  _warn_prf(average, modifier, msg_start, len(result))\n",
      "C:\\Users\\prabh\\AppData\\Local\\Programs\\Python\\Python310\\lib\\site-packages\\sklearn\\metrics\\_classification.py:1469: UndefinedMetricWarning: Precision and F-score are ill-defined and being set to 0.0 in labels with no predicted samples. Use `zero_division` parameter to control this behavior.\n",
      "  _warn_prf(average, modifier, msg_start, len(result))\n"
     ]
    }
   ],
   "source": [
    "# Predictions\n",
    "y_pred_probs = model.predict(X_test)\n",
    "y_pred = np.argmax(y_pred_probs, axis=1)\n",
    "y_true = np.argmax(y_test, axis=1)\n",
    "\n",
    "# Confusion Matrix\n",
    "cm = confusion_matrix(y_true, y_pred)\n",
    "plt.figure(figsize=(6,6))\n",
    "plt.imshow(cm, cmap='Blues')\n",
    "plt.title(\"Confusion Matrix\")\n",
    "plt.ylabel('True Labels')\n",
    "plt.xlabel('Predicted Labels')\n",
    "plt.xticks(range(num_classes), label_encoder.classes_, rotation=45)\n",
    "plt.yticks(range(num_classes), label_encoder.classes_)\n",
    "for i in range(num_classes):\n",
    "    for j in range(num_classes):\n",
    "        plt.text(j, i, cm[i, j], ha='center', va='center', color='red')\n",
    "plt.show()\n",
    "\n",
    "# Classification Report\n",
    "print(classification_report(y_true, y_pred, target_names=label_encoder.classes_))"
   ]
  },
  {
   "cell_type": "code",
   "execution_count": null,
   "id": "6fc5251b-4a32-46b1-8071-f32e6bcf12ce",
   "metadata": {},
   "outputs": [],
   "source": []
  }
 ],
 "metadata": {
  "kernelspec": {
   "display_name": "Python 3.10.6",
   "language": "python",
   "name": "py310"
  },
  "language_info": {
   "codemirror_mode": {
    "name": "ipython",
    "version": 3
   },
   "file_extension": ".py",
   "mimetype": "text/x-python",
   "name": "python",
   "nbconvert_exporter": "python",
   "pygments_lexer": "ipython3",
   "version": "3.10.6"
  }
 },
 "nbformat": 4,
 "nbformat_minor": 5
}
