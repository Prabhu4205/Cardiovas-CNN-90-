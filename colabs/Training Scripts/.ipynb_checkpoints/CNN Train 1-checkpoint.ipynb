{
 "cells": [
  {
   "cell_type": "code",
   "execution_count": 1,
   "id": "cdc7681c-96bc-47df-9b65-39e96291fd09",
   "metadata": {},
   "outputs": [],
   "source": [
    "import os\n",
    "import pandas as pd\n",
    "import numpy as np\n",
    "from sklearn.preprocessing import LabelEncoder\n",
    "from sklearn.model_selection import train_test_split\n",
    "from tensorflow.keras.models import Sequential\n",
    "from tensorflow.keras.layers import Input, Conv1D, MaxPooling1D, Flatten, Dense, Dropout\n",
    "from tensorflow.keras.utils import to_categorical\n",
    "import joblib"
   ]
  },
  {
   "cell_type": "code",
   "execution_count": 3,
   "id": "4bcb7558-b724-4544-8159-e01fc628c190",
   "metadata": {},
   "outputs": [],
   "source": [
    "# Folder paths\n",
    "folders = {\n",
    "    \"Abnormal Heartbeat\": r\"D:\\FYP\\Cadivas CNN\\preprocessed_1d\\AHB\",\n",
    "    \"Myocardial Infarction\": r\"D:\\FYP\\Cadivas CNN\\preprocessed_1d\\MI\",\n",
    "    \"Normal\": r\"D:\\FYP\\Cadivas CNN\\preprocessed_1d\\NORMAL\",\n",
    "    \"History of MI\": r\"D:\\FYP\\Cadivas CNN\\preprocessed_1d\\PM\"\n",
    "}\n",
    "\n",
    "all_data = []\n",
    "\n",
    "for label, folder in folders.items():\n",
    "    for file in os.listdir(folder):\n",
    "        if file.endswith(\".csv\"):\n",
    "            df = pd.read_csv(os.path.join(folder, file))\n",
    "            # Make sure target column is included\n",
    "            df['Class'] = label\n",
    "            all_data.append(df)\n",
    "\n",
    "# Combine all data\n",
    "data = pd.concat(all_data, ignore_index=True)"
   ]
  },
  {
   "cell_type": "code",
   "execution_count": 4,
   "id": "86201ed9-1164-44c7-96c9-909ecf48017d",
   "metadata": {},
   "outputs": [],
   "source": [
    "# Features (first 255 columns)\n",
    "X = data.iloc[:, :255].values  \n",
    "\n",
    "# Labels (last column or the added Class column)\n",
    "y = data['Class'].values\n",
    "\n",
    "# Encode string labels to numbers\n",
    "label_encoder = LabelEncoder()\n",
    "y_encoded = label_encoder.fit_transform(y)\n",
    "\n",
    "# One-hot encode\n",
    "y_onehot = to_categorical(y_encoded)"
   ]
  },
  {
   "cell_type": "code",
   "execution_count": 5,
   "id": "0280222c-652d-474a-96ec-3e110de823eb",
   "metadata": {},
   "outputs": [],
   "source": [
    "X_train, X_test, y_train, y_test = train_test_split(\n",
    "    X, y_onehot, test_size=0.2, random_state=42, stratify=y_onehot\n",
    ")\n",
    "\n",
    "# Reshape for 1D CNN (samples, timesteps, features=1)\n",
    "X_train = X_train.reshape(X_train.shape[0], X_train.shape[1], 1)\n",
    "X_test = X_test.reshape(X_test.shape[0], X_test.shape[1], 1)"
   ]
  },
  {
   "cell_type": "code",
   "execution_count": 6,
   "id": "42fd1e95-573d-4dc2-a8d4-3360097501cb",
   "metadata": {},
   "outputs": [
    {
     "name": "stdout",
     "output_type": "stream",
     "text": [
      "Model: \"sequential\"\n",
      "_________________________________________________________________\n",
      " Layer (type)                Output Shape              Param #   \n",
      "=================================================================\n",
      " conv1d (Conv1D)             (None, 251, 32)           192       \n",
      "                                                                 \n",
      " max_pooling1d (MaxPooling1D  (None, 125, 32)          0         \n",
      " )                                                               \n",
      "                                                                 \n",
      " conv1d_1 (Conv1D)           (None, 121, 64)           10304     \n",
      "                                                                 \n",
      " max_pooling1d_1 (MaxPooling  (None, 60, 64)           0         \n",
      " 1D)                                                             \n",
      "                                                                 \n",
      " flatten (Flatten)           (None, 3840)              0         \n",
      "                                                                 \n",
      " dense (Dense)               (None, 128)               491648    \n",
      "                                                                 \n",
      " dropout (Dropout)           (None, 128)               0         \n",
      "                                                                 \n",
      " dense_1 (Dense)             (None, 4)                 516       \n",
      "                                                                 \n",
      "=================================================================\n",
      "Total params: 502,660\n",
      "Trainable params: 502,660\n",
      "Non-trainable params: 0\n",
      "_________________________________________________________________\n"
     ]
    }
   ],
   "source": [
    "model = Sequential([\n",
    "    Input(shape=(X_train.shape[1], 1)),\n",
    "    Conv1D(32, kernel_size=5, activation='relu'),\n",
    "    MaxPooling1D(pool_size=2),\n",
    "    Conv1D(64, kernel_size=5, activation='relu'),\n",
    "    MaxPooling1D(pool_size=2),\n",
    "    Flatten(),\n",
    "    Dense(128, activation='relu'),\n",
    "    Dropout(0.5),\n",
    "    Dense(y_onehot.shape[1], activation='softmax')\n",
    "])\n",
    "\n",
    "model.compile(optimizer='adam', loss='categorical_crossentropy', metrics=['accuracy'])\n",
    "model.summary()"
   ]
  },
  {
   "cell_type": "code",
   "execution_count": 7,
   "id": "3544d807-86ad-4696-81eb-ffaaf8220053",
   "metadata": {},
   "outputs": [
    {
     "name": "stdout",
     "output_type": "stream",
     "text": [
      "Epoch 1/50\n",
      "302/302 [==============================] - 5s 14ms/step - loss: 1.3339 - accuracy: 0.3572 - val_loss: 1.2698 - val_accuracy: 0.4136\n",
      "Epoch 2/50\n",
      "302/302 [==============================] - 4s 14ms/step - loss: 1.2099 - accuracy: 0.4731 - val_loss: 1.1316 - val_accuracy: 0.5131\n",
      "Epoch 3/50\n",
      "302/302 [==============================] - 4s 14ms/step - loss: 1.0825 - accuracy: 0.5434 - val_loss: 1.0147 - val_accuracy: 0.5798\n",
      "Epoch 4/50\n",
      "302/302 [==============================] - 4s 15ms/step - loss: 0.9788 - accuracy: 0.5959 - val_loss: 0.8901 - val_accuracy: 0.6477\n",
      "Epoch 5/50\n",
      "302/302 [==============================] - 4s 14ms/step - loss: 0.8718 - accuracy: 0.6445 - val_loss: 0.8024 - val_accuracy: 0.6979\n",
      "Epoch 6/50\n",
      "302/302 [==============================] - 4s 15ms/step - loss: 0.7819 - accuracy: 0.6835 - val_loss: 0.7176 - val_accuracy: 0.7228\n",
      "Epoch 7/50\n",
      "302/302 [==============================] - 4s 14ms/step - loss: 0.7065 - accuracy: 0.7155 - val_loss: 0.6579 - val_accuracy: 0.7385\n",
      "Epoch 8/50\n",
      "302/302 [==============================] - 4s 14ms/step - loss: 0.6364 - accuracy: 0.7468 - val_loss: 0.6148 - val_accuracy: 0.7605\n",
      "Epoch 9/50\n",
      "302/302 [==============================] - 4s 15ms/step - loss: 0.5755 - accuracy: 0.7720 - val_loss: 0.5561 - val_accuracy: 0.7915\n",
      "Epoch 10/50\n",
      "302/302 [==============================] - 4s 14ms/step - loss: 0.5322 - accuracy: 0.7879 - val_loss: 0.5167 - val_accuracy: 0.8052\n",
      "Epoch 11/50\n",
      "302/302 [==============================] - 4s 14ms/step - loss: 0.5009 - accuracy: 0.7954 - val_loss: 0.4906 - val_accuracy: 0.8218\n",
      "Epoch 12/50\n",
      "302/302 [==============================] - 4s 14ms/step - loss: 0.4626 - accuracy: 0.8149 - val_loss: 0.4769 - val_accuracy: 0.8272\n",
      "Epoch 13/50\n",
      "302/302 [==============================] - 4s 13ms/step - loss: 0.4284 - accuracy: 0.8285 - val_loss: 0.4725 - val_accuracy: 0.8259\n",
      "Epoch 14/50\n",
      "302/302 [==============================] - 4s 14ms/step - loss: 0.4068 - accuracy: 0.8378 - val_loss: 0.4571 - val_accuracy: 0.8421\n",
      "Epoch 15/50\n",
      "302/302 [==============================] - 4s 14ms/step - loss: 0.3798 - accuracy: 0.8489 - val_loss: 0.4297 - val_accuracy: 0.8454\n",
      "Epoch 16/50\n",
      "302/302 [==============================] - 4s 14ms/step - loss: 0.3586 - accuracy: 0.8613 - val_loss: 0.4245 - val_accuracy: 0.8595\n",
      "Epoch 17/50\n",
      "302/302 [==============================] - 4s 14ms/step - loss: 0.3382 - accuracy: 0.8628 - val_loss: 0.4257 - val_accuracy: 0.8595\n",
      "Epoch 18/50\n",
      "302/302 [==============================] - 4s 14ms/step - loss: 0.3248 - accuracy: 0.8688 - val_loss: 0.4167 - val_accuracy: 0.8653\n",
      "Epoch 19/50\n",
      "302/302 [==============================] - 4s 13ms/step - loss: 0.2954 - accuracy: 0.8822 - val_loss: 0.4097 - val_accuracy: 0.8695\n",
      "Epoch 20/50\n",
      "302/302 [==============================] - 4s 14ms/step - loss: 0.2900 - accuracy: 0.8853 - val_loss: 0.3910 - val_accuracy: 0.8748\n",
      "Epoch 21/50\n",
      "302/302 [==============================] - 4s 14ms/step - loss: 0.2913 - accuracy: 0.8812 - val_loss: 0.4212 - val_accuracy: 0.8695\n",
      "Epoch 22/50\n",
      "302/302 [==============================] - 4s 14ms/step - loss: 0.2775 - accuracy: 0.8892 - val_loss: 0.3990 - val_accuracy: 0.8736\n",
      "Epoch 23/50\n",
      "302/302 [==============================] - 4s 14ms/step - loss: 0.2523 - accuracy: 0.9014 - val_loss: 0.3970 - val_accuracy: 0.8831\n",
      "Epoch 24/50\n",
      "302/302 [==============================] - 4s 14ms/step - loss: 0.2354 - accuracy: 0.9096 - val_loss: 0.4058 - val_accuracy: 0.8719\n",
      "Epoch 25/50\n",
      "302/302 [==============================] - 4s 14ms/step - loss: 0.2292 - accuracy: 0.9089 - val_loss: 0.3932 - val_accuracy: 0.8877\n",
      "Epoch 26/50\n",
      "302/302 [==============================] - 4s 14ms/step - loss: 0.2284 - accuracy: 0.9107 - val_loss: 0.3985 - val_accuracy: 0.8893\n",
      "Epoch 27/50\n",
      "302/302 [==============================] - 4s 13ms/step - loss: 0.2185 - accuracy: 0.9106 - val_loss: 0.4068 - val_accuracy: 0.8997\n",
      "Epoch 28/50\n",
      "302/302 [==============================] - 4s 14ms/step - loss: 0.2158 - accuracy: 0.9163 - val_loss: 0.4240 - val_accuracy: 0.8960\n",
      "Epoch 29/50\n",
      "302/302 [==============================] - 4s 14ms/step - loss: 0.2162 - accuracy: 0.9142 - val_loss: 0.4012 - val_accuracy: 0.9030\n",
      "Epoch 30/50\n",
      "302/302 [==============================] - 5s 18ms/step - loss: 0.2083 - accuracy: 0.9176 - val_loss: 0.4543 - val_accuracy: 0.8831\n",
      "Epoch 31/50\n",
      "302/302 [==============================] - 5s 18ms/step - loss: 0.2050 - accuracy: 0.9178 - val_loss: 0.4550 - val_accuracy: 0.8864\n",
      "Epoch 32/50\n",
      "302/302 [==============================] - 5s 16ms/step - loss: 0.2034 - accuracy: 0.9190 - val_loss: 0.4121 - val_accuracy: 0.9055\n",
      "Epoch 33/50\n",
      "302/302 [==============================] - 5s 15ms/step - loss: 0.1858 - accuracy: 0.9256 - val_loss: 0.4108 - val_accuracy: 0.8964\n",
      "Epoch 34/50\n",
      "302/302 [==============================] - 4s 15ms/step - loss: 0.1758 - accuracy: 0.9291 - val_loss: 0.4464 - val_accuracy: 0.8968\n",
      "Epoch 35/50\n",
      "302/302 [==============================] - 4s 14ms/step - loss: 0.1890 - accuracy: 0.9230 - val_loss: 0.4168 - val_accuracy: 0.8997\n",
      "Epoch 36/50\n",
      "302/302 [==============================] - 4s 14ms/step - loss: 0.1767 - accuracy: 0.9259 - val_loss: 0.4384 - val_accuracy: 0.8910\n",
      "Epoch 37/50\n",
      "302/302 [==============================] - 4s 14ms/step - loss: 0.1748 - accuracy: 0.9290 - val_loss: 0.4164 - val_accuracy: 0.9043\n",
      "Epoch 38/50\n",
      "302/302 [==============================] - 4s 14ms/step - loss: 0.1706 - accuracy: 0.9312 - val_loss: 0.4350 - val_accuracy: 0.8993\n",
      "Epoch 39/50\n",
      "302/302 [==============================] - 4s 14ms/step - loss: 0.1707 - accuracy: 0.9292 - val_loss: 0.4211 - val_accuracy: 0.8993\n",
      "Epoch 40/50\n",
      "302/302 [==============================] - 4s 14ms/step - loss: 0.1579 - accuracy: 0.9387 - val_loss: 0.4275 - val_accuracy: 0.9101\n",
      "Epoch 41/50\n",
      "302/302 [==============================] - 4s 14ms/step - loss: 0.1577 - accuracy: 0.9360 - val_loss: 0.4347 - val_accuracy: 0.9010\n",
      "Epoch 42/50\n",
      "302/302 [==============================] - 4s 14ms/step - loss: 0.1512 - accuracy: 0.9376 - val_loss: 0.4550 - val_accuracy: 0.8993\n",
      "Epoch 43/50\n",
      "302/302 [==============================] - 4s 14ms/step - loss: 0.1557 - accuracy: 0.9349 - val_loss: 0.4857 - val_accuracy: 0.8947\n",
      "Epoch 44/50\n",
      "302/302 [==============================] - 4s 14ms/step - loss: 0.1474 - accuracy: 0.9400 - val_loss: 0.4806 - val_accuracy: 0.9030\n",
      "Epoch 45/50\n",
      "302/302 [==============================] - 4s 14ms/step - loss: 0.1525 - accuracy: 0.9401 - val_loss: 0.4369 - val_accuracy: 0.9022\n",
      "Epoch 46/50\n",
      "302/302 [==============================] - 4s 14ms/step - loss: 0.1409 - accuracy: 0.9450 - val_loss: 0.4991 - val_accuracy: 0.8997\n",
      "Epoch 47/50\n",
      "302/302 [==============================] - 4s 14ms/step - loss: 0.1459 - accuracy: 0.9400 - val_loss: 0.4954 - val_accuracy: 0.9080\n",
      "Epoch 48/50\n",
      "302/302 [==============================] - 4s 13ms/step - loss: 0.1465 - accuracy: 0.9404 - val_loss: 0.4793 - val_accuracy: 0.9059\n",
      "Epoch 49/50\n",
      "302/302 [==============================] - 4s 14ms/step - loss: 0.1375 - accuracy: 0.9429 - val_loss: 0.5150 - val_accuracy: 0.9097\n",
      "Epoch 50/50\n",
      "302/302 [==============================] - 4s 14ms/step - loss: 0.1355 - accuracy: 0.9459 - val_loss: 0.4997 - val_accuracy: 0.9001\n"
     ]
    }
   ],
   "source": [
    "history = model.fit(\n",
    "    X_train, y_train,\n",
    "    validation_data=(X_test, y_test),\n",
    "    epochs=50,\n",
    "    batch_size=32\n",
    ")"
   ]
  },
  {
   "cell_type": "code",
   "execution_count": 14,
   "id": "19341281-5d62-4373-97ae-ba4a2b6857f3",
   "metadata": {},
   "outputs": [
    {
     "name": "stdout",
     "output_type": "stream",
     "text": [
      "76/76 [==============================] - 0s 5ms/step\n",
      "\n",
      "Classification Report:\n",
      "\n",
      "                       precision    recall  f1-score   support\n",
      "\n",
      "   Abnormal Heartbeat       0.92      0.79      0.85       606\n",
      "        History of MI       0.83      0.87      0.85       447\n",
      "Myocardial Infarction       0.97      1.00      0.99       621\n",
      "               Normal       0.87      0.92      0.90       739\n",
      "\n",
      "             accuracy                           0.90      2413\n",
      "            macro avg       0.90      0.90      0.90      2413\n",
      "         weighted avg       0.90      0.90      0.90      2413\n",
      "\n",
      "\n",
      "Accuracy: 90.01%\n"
     ]
    }
   ],
   "source": [
    "from sklearn.metrics import classification_report, confusion_matrix, accuracy_score\n",
    "\n",
    "# Predictions\n",
    "y_pred_probs = model.predict(X_test)\n",
    "y_test_labels = np.argmax(y_test, axis=1)\n",
    "y_pred_labels = np.argmax(y_pred_probs, axis=1)\n",
    "\n",
    "# Classification report\n",
    "print(\"\\nClassification Report:\\n\")\n",
    "print(classification_report(y_test_labels, y_pred_labels, target_names=label_encoder.classes_))\n",
    "\n",
    "\n",
    "# Accuracy\n",
    "acc = accuracy_score(y_test_labels, y_pred_labels)\n",
    "print(\"\\nAccuracy: {:.2f}%\".format(acc * 100))"
   ]
  },
  {
   "cell_type": "code",
   "execution_count": 15,
   "id": "2b29068a-3dce-4158-9cab-71df74debd62",
   "metadata": {},
   "outputs": [
    {
     "data": {
      "text/plain": [
       "['label_encoder.pkl']"
      ]
     },
     "execution_count": 15,
     "metadata": {},
     "output_type": "execute_result"
    }
   ],
   "source": [
    "model.save(\"CNN_ECG(90).h5\")\n",
    "joblib.dump(label_encoder, \"label_encoder.pkl\")"
   ]
  },
  {
   "cell_type": "code",
   "execution_count": null,
   "id": "365ebe9b-2277-4c7c-b059-4154215bcb5a",
   "metadata": {},
   "outputs": [],
   "source": []
  }
 ],
 "metadata": {
  "kernelspec": {
   "display_name": "Python 3.10.6",
   "language": "python",
   "name": "py310"
  },
  "language_info": {
   "codemirror_mode": {
    "name": "ipython",
    "version": 3
   },
   "file_extension": ".py",
   "mimetype": "text/x-python",
   "name": "python",
   "nbconvert_exporter": "python",
   "pygments_lexer": "ipython3",
   "version": "3.10.6"
  }
 },
 "nbformat": 4,
 "nbformat_minor": 5
}
